{
  "nbformat": 4,
  "nbformat_minor": 0,
  "metadata": {
    "colab": {
      "provenance": []
    },
    "kernelspec": {
      "name": "python3",
      "display_name": "Python 3"
    },
    "language_info": {
      "name": "python"
    }
  },
  "cells": [
    {
      "cell_type": "code",
      "execution_count": null,
      "metadata": {
        "id": "GtLcSSr-U6KR"
      },
      "outputs": [],
      "source": [
        "import pandas as pd\n",
        "\n",
        "# Load the CSV file\n",
        "df = pd.read_csv('August12 (2).csv')\n",
        "\n",
        "# Trim to the first 200 rows\n",
        "df_trimmed = df.head(200)\n",
        "\n",
        "# Save the trimmed data to a new CSV file\n",
        "df_trimmed.to_csv('August12(2).csv', index=False)\n"
      ]
    },
    {
      "cell_type": "code",
      "source": [],
      "metadata": {
        "id": "MtThNlQYVWTx"
      },
      "execution_count": null,
      "outputs": []
    }
  ]
}